{
 "cells": [
  {
   "cell_type": "markdown",
   "metadata": {},
   "source": [
    "## Chatgpt: Custom instructions and How would you like ChatGPT to respond?"
   ]
  },
  {
   "cell_type": "markdown",
   "metadata": {},
   "source": [
    "Act as Professor Synapse🧙🏾‍♂️, a conductor of expert agents. Your job is to support the user in accomplishing their goals by aligning with their goals and preference, then calling upon an expert agent perfectly suited to the task by initializing \"Synapse_COR\" = \"${emoji}: I am an expert in ${role}. I know ${context}. I will reason step-by-step to determine the best course of action to achieve ${goal}. I can use ${tools} to help in this process\n",
    "\n",
    "I will help you accomplish your goal by following these steps:\n",
    "${reasoned steps}\n",
    "\n",
    "My task ends when ${completion}. \n",
    "\n",
    "${first step, question}.\"\n",
    "\n",
    "Follow these steps:\n",
    "1. 🧙🏾‍♂️, Start each interaction by gathering context, relevant information and clarifying the user’s goals by asking them questions\n",
    "2. Once user has confirmed, initialize “Synapse_CoR”\n",
    "3.  🧙🏾‍♂️ and the expert agent, support the user until the goal is accomplished\n",
    "\n",
    "Commands:\n",
    "/start - introduce yourself and begin with step one \n",
    "/save - restate SMART goal, summarize progress so far, and recommend a next step\n",
    "/reason - Professor Synapse and Agent reason step by step together and make a recommendation for how the user should proceed\n",
    "/settings - update goal or agent\n",
    "/new - Forget previous input\n",
    "\n",
    "Rules:\n",
    "-End every output with a question or a recommended next step\n",
    "-List your commands in your first output or if the user asks\n",
    "-🧙🏾‍♂️, ask before generating a new agent\"\""
   ]
  },
  {
   "cell_type": "markdown",
   "metadata": {},
   "source": [
    "## Here is the code book for the data to follow.\n",
    "### tt_union_wages_codebook.docx\n",
    "Thank you for providing the codebook. Let me first review its content to understand the structure and details of the data you're referring to."
   ]
  },
  {
   "cell_type": "code",
   "execution_count": null,
   "metadata": {},
   "outputs": [],
   "source": [
    "import numpy as np\n",
    "import pandas as pd\n",
    "import matplotlib.pylab as plt\n",
    "from docx import Document"
   ]
  },
  {
   "cell_type": "code",
   "execution_count": null,
   "metadata": {},
   "outputs": [],
   "source": [
    "\n",
    "\n",
    "# Load the provided docx file\n",
    "doc = Document(\"./tt_union_wages_codebook.docx\")\n",
    "\n",
    "# Extract the text from the document\n",
    "text = []\n",
    "for para in doc.paragraphs:\n",
    "    text.append(para.text)\n",
    "\n",
    "# Join the paragraphs and display the first 1000 characters for a preview\n",
    "text_preview = \"\\n\".join(text)[:1000]\n",
    "text_preview\n"
   ]
  },
  {
   "cell_type": "markdown",
   "metadata": {},
   "source": [
    "## The codebook seems to mention three data files:\n",
    "\n",
    "    demographics.csv\n",
    "    wages.csv\n",
    "    states.csv\n",
    "\n",
    "However, the content of the codebook doesn't seem to provide detailed descriptions for each of these files. Would you be able to share the data files mentioned or provide more context about their structure and content?"
   ]
  },
  {
   "cell_type": "markdown",
   "metadata": {},
   "source": [
    "Here is the description of the columns in the demographics sheets:\n",
    "variable\tclass\tdescription\n",
    "year\tdouble\tWhen the data was collected.\n",
    "sample_size\tdouble\tThe number of wage and salary workers ages 16 and over who were surveyed.\n",
    "employment\tdouble\tWage and salary employment in thousands.\n",
    "members\tdouble\tEmployed workers who are union members in thousands.\n",
    "covered\tdouble\tWorkers covered by a collective bargaining agreement in thousands.\n",
    "p_members\tdouble\tPercent of employed workers who are union members.\n",
    "p_covered\tdouble\tPercent of employed workers who are covered by a collective bargaining agreement.\n",
    "facet\n",
    "character\tThe sector or demographic group contained in this row of data.\n"
   ]
  },
  {
   "cell_type": "markdown",
   "metadata": {},
   "source": [
    "Thank you for providing the description of the columns in the demographics.csv file. Here's a summary of the columns:\n",
    "\n",
    "    year: When the data was collected. (Type: Double)\n",
    "    sample_size: The number of wage and salary workers ages 16 and over who were surveyed. (Type: Double)\n",
    "    employment: Wage and salary employment in thousands. (Type: Double)\n",
    "    members: Employed workers who are union members in thousands. (Type: Double)\n",
    "    covered: Workers covered by a collective bargaining agreement in thousands. (Type: Double)\n",
    "    p_members: Percent of employed workers who are union members. (Type: Double)\n",
    "    p_covered: Percent of employed workers who are covered by a collective bargaining agreement. (Type: Double)\n",
    "    facet: The sector or demographic group contained in this row of data. (Type: Character)\n",
    "\n",
    "Would you like to upload the demographics.csv file now so we can further examine and analyze it? If you have descriptions for the other files (wages.csv and states.csv), please provide those as well."
   ]
  },
  {
   "cell_type": "markdown",
   "metadata": {},
   "source": [
    "Here is the description of the columns in the wages table:\n",
    "variable\tclass\tdescription\n",
    "year\tdouble\tWhen the data was collected.\n",
    "sample_size\tdouble\tThe number of wage and salary workers ages 16 and over who were surveyed and provided earnings and hours worked information.\n",
    "wage\tdouble\tMean hourly earnings in nominal dollars.\n",
    "at_cap\tdouble\tPercent of workers with weekly earnings at the top code of $999 through 1988, $1923 in 1989-97, and $2885 beginning in 1998, with individuals assigned mean earnings above the cap based on annual estimates of the gender-specific Pareto distribution.\n",
    "union_wage\tdouble\tMean wage among union members.\n",
    "nonunion_wage\tdouble\tMean wage among nonunion workers.\n",
    "union_wage_premium_raw\tdouble\tThe percentage difference between the union and nonunion wage.\n",
    "union_wage_premium_adjusted\tdouble\tEstimated as exp(b)-1 where b is the regression coefficient on a union membership variable (equal to 1 if union and 0 otherwise) from a semi-logarithmic wage equation, with controls included for worker/job characteristics. Included in the all-worker wage equation are the control variables: years of schooling, potential years of experience [proxied by age minus years of schooling minus 6] and its square [both interacted with gender], and categorical variables for marital status, race and ethnicity, gender, part-time, large metropolitan area, state, public sector, broad industry, and broad occupation. Controls are omitted, as appropriate, for estimates within sectors or by demographic group [i.e., by class, gender, race, or industry sector]. Workers who do not report earnings but instead have them imputed [i.e., assigned] by the Census are removed from the estimation samples in all years, except 1994 and 1995 when imputed earners cannot be identified. Inclusion of imputed earners causes union wages to be understated, nonunion wages overstated, and union-nonunion wage differences understated. For 1994-95, the sample includes imputed earners and estimates in those years have been adjusted to remove the bias from imputation.\n",
    "facet\tcharacter\tThe sector or demographic group contained in this row of data."
   ]
  },
  {
   "cell_type": "markdown",
   "metadata": {},
   "source": [
    "Thank you for providing the description of the columns in the wages.csv file. Here's a summary of the columns:\n",
    "\n",
    "    year: When the data was collected. (Type: Double)\n",
    "    sample_size: The number of wage and salary workers ages 16 and over who were surveyed and provided earnings and hours worked information. (Type: Double)\n",
    "    wage: Mean hourly earnings in nominal dollars. (Type: Double)\n",
    "    at_cap: Percent of workers with weekly earnings at the top code. This has various definitions based on the year. (Type: Double)\n",
    "    union_wage: Mean wage among union members. (Type: Double)\n",
    "    nonunion_wage: Mean wage among nonunion workers. (Type: Double)\n",
    "    union_wage_premium_raw: The percentage difference between the union and nonunion wage. (Type: Double)\n",
    "    union_wage_premium_adjusted: This is an estimate derived from a regression analysis that controls for various factors affecting wages. (Type: Double)\n",
    "    facet: The sector or demographic group contained in this row of data. (Type: Character)\n",
    "\n",
    "This gives a clear understanding of the structure of the wages.csv file. If you have data for the states.csv file or would like to upload any of the datasets, please let me know.\n"
   ]
  },
  {
   "cell_type": "markdown",
   "metadata": {},
   "source": [
    "Here is the description for the states data:\n",
    "variable\tclass\tdescription\n",
    "state_census_code\tdouble\tCensus state code used in CPS\n",
    "state\tcharacter\tState name.\n",
    "sector\tcharacter\tEmployment sector.\n",
    "observations\tdouble\tCPS sample size.\n",
    "employment\tdouble\tWage and salary employment in thousands.\n",
    "members\tdouble\tEmployed workers who are union members in thousands.\n",
    "covered\tdouble\tWorkers covered by a collective bargaining agreement in thousands.\n",
    "p_members\tdouble\tPercent of employed workers who are union members.\n",
    "p_covered\tdouble\tPercent of employed workers who are covered by a collective bargaining agreement.\n",
    "state_abbreviation\tcharacter\tState abbreviation.\n",
    "year\tdouble\tYear of the survey."
   ]
  },
  {
   "cell_type": "markdown",
   "metadata": {},
   "source": [
    "Thank you for the description of the columns in the states.csv file. Here's a summary of the columns:\n",
    "\n",
    "    state_census_code: Census state code used in CPS. (Type: Double)\n",
    "    state: State name. (Type: Character)\n",
    "    sector: Employment sector. (Type: Character)\n",
    "    observations: CPS sample size. (Type: Double)\n",
    "    employment: Wage and salary employment in thousands. (Type: Double)\n",
    "    members: Employed workers who are union members in thousands. (Type: Double)\n",
    "    covered: Workers covered by a collective bargaining agreement in thousands. (Type: Double)\n",
    "    p_members: Percent of employed workers who are union members. (Type: Double)\n",
    "    p_covered: Percent of employed workers who are covered by a collective bargaining agreement. (Type: Double)\n",
    "    state_abbreviation: State abbreviation. (Type: Character)\n",
    "    year: Year of the survey. (Type: Double)\n",
    "\n",
    "With the column descriptions for all three datasets (demographics.csv, wages.csv, and states.csv) now available, please upload the datasets if you'd like to proceed with specific analyses or tasks related to them."
   ]
  },
  {
   "cell_type": "markdown",
   "metadata": {},
   "source": [
    "## And here is the Excel contain the thee sheets mentioned above.\n",
    "Thank you for providing the Excel file. I'll start by loading the three sheets (demographics, wages, and states) from the provided Excel file to inspect the first few rows and get a sense of the data."
   ]
  },
  {
   "cell_type": "code",
   "execution_count": null,
   "metadata": {},
   "outputs": [],
   "source": [
    "# Load the three sheets from the Excel file\n",
    "demographics_df = pd.read_excel(\".//tt_union_wages.xlsx\", sheet_name=\"demographics\")\n",
    "wages_df = pd.read_excel(\"./tt_union_wages.xlsx\", sheet_name=\"wages\")\n",
    "states_df = pd.read_excel(\"./tt_union_wages.xlsx\", sheet_name=\"states\")\n",
    "\n",
    "# Display the first few rows of each dataset\n",
    "demographics_preview, wages_preview, states_preview = demographics_df.head(), wages_df.head(), states_df.head()\n",
    "demographics_preview, wages_preview, states_preview\n"
   ]
  },
  {
   "cell_type": "markdown",
   "metadata": {},
   "source": [
    "## The datasets have been successfully loaded. Here's a quick summary:\n",
    "\n",
    "Demographics Data Preview:\n",
    "\n",
    "    Columns: year, sample_size, employment, members, covered, p_members, p_covered, facet.\n",
    "    Sample entry: In 1973, data was collected from 49,095 wage and salary workers, out of which 18,088.57 thousand were union members.\n",
    "\n",
    "Wages Data Preview:\n",
    "\n",
    "    Columns: year, sample_size, wage, at_cap, union_wage, nonunion_wage, union_wage_premium_raw, union_wage_premium_adjusted, facet.\n",
    "    Sample entry: In 1973, the mean hourly earnings were $3.9633, with the mean wage among union members being $4.6130 and non-union workers earning $3.7545 on average.\n",
    "\n",
    "States Data Preview:\n",
    "\n",
    "    Columns: state_census_code, state, sector, observations, employment, members, covered, p_members, p_covered, state_abbreviation, year.\n",
    "    Sample entry: In 1983, in the state of Maine, the private construction sector had 16,917.99 thousand wage and salary workers, out of which 2,207.33 thousand were union members.\n",
    "\n",
    "Now that we have a sense of the data, please let me know how you'd like to proceed. Would you like any specific analyses, visualizations, or any other tasks related to this data?\n"
   ]
  },
  {
   "cell_type": "markdown",
   "metadata": {},
   "source": [
    "## Perform EDA on three tables\n",
    "Certainly! Exploratory Data Analysis (EDA) is a broad field, but here's a general plan for each dataset:\n",
    "\n",
    "    General Analysis:\n",
    "        Check for missing values.\n",
    "        Summary statistics for each column.\n",
    "\n",
    "    Demographics Data:\n",
    "        Distribution of sample_size, employment, members, and covered over the years.\n",
    "        Distribution of p_members and p_covered over the years.\n",
    "        Top demographic groups (facet) in terms of union membership.\n",
    "\n",
    "    Wages Data:\n",
    "        Distribution of wage, union_wage, and nonunion_wage over the years.\n",
    "        Distribution of union_wage_premium_raw and union_wage_premium_adjusted over the years.\n",
    "        Top demographic groups (facet) in terms of wage differences.\n",
    "\n",
    "    States Data:\n",
    "        Distribution of union members (members) by state and year.\n",
    "        Distribution of p_members and p_covered by state and year.\n",
    "        Top sectors (sector) in terms of union membership.\n",
    "\n",
    "Let's start with the general analysis for each dataset: checking for missing values and getting summary statistics."
   ]
  },
  {
   "cell_type": "code",
   "execution_count": null,
   "metadata": {},
   "outputs": [],
   "source": [
    "# Check for missing values and summary statistics for each dataset\n",
    "\n",
    "# Missing values\n",
    "missing_values_demographics = demographics_df.isnull().sum()\n",
    "missing_values_wages = wages_df.isnull().sum()\n",
    "missing_values_states = states_df.isnull().sum()\n",
    "\n",
    "# Summary statistics\n",
    "summary_demographics = demographics_df.describe(include='all')\n",
    "summary_wages = wages_df.describe(include='all')\n",
    "summary_states = states_df.describe(include='all')\n",
    "\n",
    "missing_values_demographics, missing_values_wages, missing_values_states, summary_demographics, summary_wages, summary_states\n"
   ]
  },
  {
   "cell_type": "markdown",
   "metadata": {},
   "source": [
    "## Here's the summary from the initial exploratory data analysis:\n",
    "1. Demographics Data:\n",
    "\n",
    "    Missing Values:\n",
    "        covered and p_covered have 92 missing values each.\n",
    "    Summary Statistics:\n",
    "        The data ranges from the year 1973 to 2022.\n",
    "        The facet column has 28 unique categories, with \"all wage and salary workers\" being a notable category.\n",
    "\n",
    "2. Wages Data:\n",
    "\n",
    "    Missing Values:\n",
    "        No missing values detected.\n",
    "    Summary Statistics:\n",
    "        The data also ranges from the year 1973 to 2022.\n",
    "        Mean hourly earnings (wage) seem to be increasing over the years.\n",
    "        The facet column in this dataset also includes \"all wage and salary workers\" as a notable category.\n",
    "\n",
    "3. States Data:\n",
    "\n",
    "    Missing Values:\n",
    "        No missing values detected.\n",
    "    Summary Statistics:\n",
    "        The dataset covers the years from 1983 to 2022.\n",
    "        There are 51 unique state abbreviations in the dataset.\n",
    "        The sector column indicates the employment sector, which can be further explored to determine which sectors have the highest union membership.\n",
    "\n",
    "With this overview in mind, let's delve deeper into each dataset. We'll start by visualizing some of the key metrics to get a better understanding of the distributions and trends.\n",
    "\n",
    "Would you like to proceed with visualizations based on the plan mentioned earlier, or do you have specific aspects you'd like to explore further?"
   ]
  }
 ],
 "metadata": {
  "language_info": {
   "name": "python"
  },
  "orig_nbformat": 4
 },
 "nbformat": 4,
 "nbformat_minor": 2
}
